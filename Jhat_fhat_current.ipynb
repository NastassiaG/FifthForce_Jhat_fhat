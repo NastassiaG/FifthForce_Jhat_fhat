{
 "cells": [
  {
   "cell_type": "code",
   "execution_count": 1,
   "id": "d8b456ff",
   "metadata": {},
   "outputs": [],
   "source": [
    "import numpy as np\n",
    "from importlib import reload\n",
    "import interpolate_fhat_Jhat as intf\n",
    "import matplotlib.pyplot as plt\n",
    "import calculate_Gamma \n",
    "from scipy.interpolate import interp1d, splev, splrep\n",
    "from statistics import stdev\n",
    "from scipy.optimize import curve_fit"
   ]
  },
  {
   "cell_type": "markdown",
   "id": "e5ed5300",
   "metadata": {},
   "source": [
    "### Data and LCDM prediction"
   ]
  },
  {
   "cell_type": "code",
   "execution_count": 2,
   "id": "3e7abaa0",
   "metadata": {},
   "outputs": [],
   "source": [
    "# Data as described in 2403.13709\n",
    "z_data = np.array([0.001, 0.02, 0.02, 0.02, 0.15, 0.17, 0.18, 0.38, 0.38, 0.51, 0.70, 0.85, 0.60, 0.86, 1.40, 0.44, 0.60, 0.73, 0.978, 1.23, 1.526, 1.944])\n",
    "fhat_data = np.array([0.505, 0.428, 0.398, 0.314, 0.530, 0.51, 0.36, 0.44, 0.497, 0.459, 0.473, 0.315, 0.55, 0.4, 0.482, 0.413, 0.390, 0.437, 0.379, 0.385, 0.342, 0.364])\n",
    "fhat_data_errors = np.array([0.085, 0.0465, 0.065, 0.048, 0.16, 0.06, 0.09, 0.06, 0.045, 0.038, 0.041, 0.095, 0.12, 0.11, 0.116, 0.08, 0.063, 0.072, 0.176, 0.099, 0.07, 0.106])"
   ]
  },
  {
   "cell_type": "code",
   "execution_count": 3,
   "id": "cc9ca343",
   "metadata": {},
   "outputs": [],
   "source": [
    "# Building the full covariance, taking the one of WiggleZ measurements and of SDSS-IV quasars into account\n",
    "fhat_cov_partial = np.diag(fhat_data_errors[:len(z_data)-7]**2)\n",
    "\n",
    "covariance_wiggle = 1e-3*np.array([[6.400, 2.570, 0.000],\n",
    "                                   [2.570, 3.969, 2.540], \n",
    "                                   [0.000, 2.540, 5.184]])\n",
    "covariance_SDSS = 1e-2*np.array([[3.098, 0.892, 0.329, -0.021],\n",
    "                                 [0.892, 0.980, 0.436, 0.076],\n",
    "                                 [0.329, 0.436, 0.490, 0.350],\n",
    "                                 [-0.021, 0.076, 0.350, 1.124]])\n",
    "\n",
    "fhat_data_covariance = np.block([[fhat_cov_partial, np.zeros([np.shape(fhat_cov_partial)[0],7])],\n",
    "                             [np.zeros([3,np.shape(fhat_cov_partial)[0]]),covariance_wiggle, np.zeros([3,4])],\n",
    "                             [np.zeros([4, np.shape(fhat_cov_partial)[0]+3]),covariance_SDSS]])\n",
    "\n",
    "fhat_data_current = {\n",
    "    'z' : z_data,\n",
    "    'mean' : fhat_data,\n",
    "    'cov' : fhat_data_covariance\n",
    "}"
   ]
  },
  {
   "cell_type": "code",
   "execution_count": 4,
   "id": "8607d37b",
   "metadata": {},
   "outputs": [],
   "source": [
    "# Jhat baseline Polychord\n",
    "maglim_zeff=np.array([0.295, 0.467, 0.626, 0.771])\n",
    "Jhat_maglim=np.array([0.32546732, 0.33277392, 0.38656369, 0.35394343])\n",
    "Jhat_covariance = np.array([[2.22596522e-04, 7.44557424e-05, 5.89004236e-05, 7.71102354e-05],\n",
    " [7.44557424e-05, 3.37844968e-04, 1.05329570e-04, 1.38623775e-04],\n",
    " [5.89004236e-05, 1.05329570e-04, 7.55843341e-04, 3.65660247e-04],\n",
    " [7.71102354e-05, 1.38623775e-04, 3.65660247e-04, 1.24053020e-03]])"
   ]
  },
  {
   "cell_type": "code",
   "execution_count": 5,
   "id": "ea63f473",
   "metadata": {},
   "outputs": [],
   "source": [
    "Jhat_errors = np.sqrt(np.diag(Jhat_covariance))"
   ]
  },
  {
   "cell_type": "code",
   "execution_count": 6,
   "id": "e0ebcee9",
   "metadata": {},
   "outputs": [],
   "source": [
    "Jhat_reco = {\n",
    "    'mean' : Jhat_maglim,\n",
    "    'cov' : Jhat_covariance,\n",
    "}"
   ]
  },
  {
   "cell_type": "code",
   "execution_count": 7,
   "id": "4ba1e547",
   "metadata": {},
   "outputs": [],
   "source": [
    "z_range=np.linspace(0,2,100)\n",
    "# Calculate the function values at the z values\n",
    "fhat_values = calculate_Gamma.fhat_LCDM(z_range)\n",
    "\n",
    "# Numerically approximate the derivative of fhat_LCDM(z)\n",
    "fhat_derivative = np.gradient(fhat_values, z_range)"
   ]
  },
  {
   "cell_type": "code",
   "execution_count": 8,
   "id": "f4246875",
   "metadata": {},
   "outputs": [],
   "source": [
    "Jhat_values = calculate_Gamma.Jhat_LCDM(z_range, Omega_m0 = 0.328, sigma_80 = 0.852)\n",
    "\n",
    "# Numerically approximate the derivative of Jhat_LCDM(z)\n",
    "Jhat_derivative = np.gradient(Jhat_values, z_range)"
   ]
  },
  {
   "cell_type": "markdown",
   "id": "ad67975b",
   "metadata": {},
   "source": [
    "## Interpolation of fhat"
   ]
  },
  {
   "cell_type": "code",
   "execution_count": 9,
   "id": "222982d0",
   "metadata": {
    "scrolled": true
   },
   "outputs": [],
   "source": [
    "#Using maglim_zeff as node values\n",
    "[best_fit_values_maglim, covariance_matrix_maglim] = intf.minuit_spline(maglim_zeff,z_data = z_data, fhat_data = fhat_data, fhat_data_errors = fhat_data_errors, fhat_data_covariance = fhat_data_covariance, use_covariance = True)\n",
    "fhat_reco = intf.spline_interpolation(best_fit_values_maglim, covariance_matrix_maglim, return_covariance = True)"
   ]
  },
  {
   "cell_type": "code",
   "execution_count": 10,
   "id": "faa77e7d",
   "metadata": {},
   "outputs": [],
   "source": [
    "#Other node values\n",
    "#node_value2 = np.array([0.2,1.0,1.5])\n",
    "node_value2 = np.array([0.2,1.0,1.5])\n",
    "[best_fit_values_maglim2, covariance_matrix_maglim2] = intf.minuit_spline(node_value2, z_data = z_data, fhat_data = fhat_data, fhat_data_errors = fhat_data_errors, fhat_data_covariance = fhat_data_covariance, use_covariance = True)\n",
    "fhat_reco2 = intf.spline_interpolation(best_fit_values_maglim2, covariance_matrix_maglim2, return_covariance = True, zarray = node_value2)"
   ]
  },
  {
   "cell_type": "code",
   "execution_count": 11,
   "id": "a5585164",
   "metadata": {},
   "outputs": [],
   "source": [
    "#Get derivatives and covariance of derivatives at maglim zeff\n",
    "fhat_reco_maglim = intf.spline_interpolation(best_fit_values_maglim, covariance_matrix_maglim, zarray=maglim_zeff, z_range = maglim_zeff, return_covariance = True)"
   ]
  },
  {
   "cell_type": "code",
   "execution_count": 12,
   "id": "674ac9cf",
   "metadata": {},
   "outputs": [],
   "source": [
    "#Get derivatives and covariance of derivatives at maglim zeff\n",
    "fhat_reco_maglim2 = intf.spline_interpolation(best_fit_values_maglim2, covariance_matrix_maglim2, zarray=node_value2, z_range = maglim_zeff, return_covariance = True)"
   ]
  },
  {
   "cell_type": "code",
   "execution_count": 13,
   "id": "9969fed5",
   "metadata": {},
   "outputs": [],
   "source": [
    "variances_maglim = np.diag(fhat_reco_maglim['cov'])\n",
    "std_devs_maglim = np.sqrt(variances_maglim)"
   ]
  },
  {
   "cell_type": "code",
   "execution_count": 14,
   "id": "1158a52c",
   "metadata": {},
   "outputs": [],
   "source": [
    "variances_maglim2 = np.diag(fhat_reco_maglim2['cov'])\n",
    "std_devs_maglim2 = np.sqrt(variances_maglim2)"
   ]
  },
  {
   "cell_type": "code",
   "execution_count": 15,
   "id": "37d14543",
   "metadata": {},
   "outputs": [],
   "source": [
    "variances_all = np.diag(fhat_reco['cov'])\n",
    "std_devs_all = np.sqrt(variances_all)"
   ]
  },
  {
   "cell_type": "code",
   "execution_count": 16,
   "id": "23af9332",
   "metadata": {},
   "outputs": [],
   "source": [
    "variances_all2 = np.diag(fhat_reco2['cov'])\n",
    "std_devs_all2 = np.sqrt(variances_all2)"
   ]
  },
  {
   "cell_type": "markdown",
   "id": "da60069a",
   "metadata": {},
   "source": [
    "#### Akaike and Bayesian Information Criteria"
   ]
  },
  {
   "cell_type": "code",
   "execution_count": 17,
   "id": "c7fa1b69",
   "metadata": {},
   "outputs": [],
   "source": [
    "def IC(best_fit_values, zarray):\n",
    "    chi_squared = intf.chi_squared_spline(best_fit_values, zarray, z_data = z_data, fhat_data = fhat_data, \n",
    "                                          fhat_data_covariance = fhat_data_covariance, use_covariance = True)\n",
    "    AIC = 2*len(zarray)+2*chi_squared\n",
    "    BIC= np.log(len(z_data))*len(zarray)+2*chi_squared\n",
    "    return [chi_squared, AIC, BIC]   "
   ]
  },
  {
   "cell_type": "code",
   "execution_count": 18,
   "id": "b0467f6f",
   "metadata": {
    "scrolled": true
   },
   "outputs": [
    {
     "name": "stdout",
     "output_type": "stream",
     "text": [
      "[0.8498833809425145, 0.7723833458840795, 0.7921296507766393, 0.8392106764535627, 0.8864118578412501, 0.9451649687204933, 0.9459011450588404]\n",
      "[38.29556847581555, 35.80580045182686, 36.93240812640573, 38.85474164651401, 40.592355735237504, 42.46461912417381, 42.59342977152985]\n",
      "[41.568695835890495, 40.169970265260126, 42.38762039319732, 45.400996366663904, 48.22965290874572, 51.19295875104034, 52.4128118517547]\n"
     ]
    }
   ],
   "source": [
    "AIC_values=[]\n",
    "BIC_values=[]\n",
    "chi_squared_values=[]\n",
    "\n",
    "for n in range(3,10):\n",
    "\n",
    "    # Calculate percentiles\n",
    "    percentiles = np.linspace(0, 100, n+2)\n",
    "\n",
    "    # Find values corresponding to percentiles\n",
    "    node_values = np.percentile(z_data, percentiles)[1:n+1]\n",
    "    #z_test=np.linspace(0.25,1.0,n)\n",
    "    [best_fit_values_test, covariance_matrix_test] = intf.minuit_spline(node_values, z_data = z_data, fhat_data = fhat_data, \n",
    "                                          fhat_data_covariance = fhat_data_covariance, use_covariance = True)\n",
    "    [chi_squared, AIC, BIC]=IC(best_fit_values_test, node_values)\n",
    "    chi_squared_values.append(chi_squared/(22-n))\n",
    "    AIC_values.append(AIC)\n",
    "    BIC_values.append(BIC)\n",
    "    \n",
    "print(chi_squared_values)\n",
    "print(AIC_values)\n",
    "print(BIC_values)"
   ]
  },
  {
   "cell_type": "markdown",
   "id": "702d367f",
   "metadata": {},
   "source": [
    "#### Testing the fifth force"
   ]
  },
  {
   "cell_type": "code",
   "execution_count": 19,
   "id": "d670ce94",
   "metadata": {},
   "outputs": [],
   "source": [
    "Hprime = calculate_Gamma.Hprime(maglim_zeff)\n",
    "H = calculate_Gamma.E(maglim_zeff)/(1+maglim_zeff)\n",
    "fprime = -(1+maglim_zeff)*fhat_reco_maglim['mean_d1']\n",
    "fprime2 = -(1+maglim_zeff)*fhat_reco_maglim2['mean_d1']"
   ]
  },
  {
   "cell_type": "code",
   "execution_count": 20,
   "id": "dc460338",
   "metadata": {},
   "outputs": [],
   "source": [
    "Gamma = 2/3*np.array(best_fit_values_maglim/Jhat_maglim)*(Hprime/H+1+fprime/best_fit_values_maglim)\n",
    "Gamma2 = 2/3*np.array(fhat_reco_maglim2['mean']/Jhat_maglim)*(Hprime/H+1+fprime2/fhat_reco_maglim2['mean'])"
   ]
  },
  {
   "cell_type": "code",
   "execution_count": 21,
   "id": "210b46df",
   "metadata": {},
   "outputs": [
    {
     "ename": "AttributeError",
     "evalue": "'numpy.ndarray' object has no attribute 'Gamma_reco'",
     "output_type": "error",
     "traceback": [
      "\u001b[0;31m---------------------------------------------------------------------------\u001b[0m",
      "\u001b[0;31mAttributeError\u001b[0m                            Traceback (most recent call last)",
      "\u001b[0;32m<ipython-input-21-4f35c292a4e6>\u001b[0m in \u001b[0;36m<module>\u001b[0;34m\u001b[0m\n\u001b[0;32m----> 1\u001b[0;31m \u001b[0;34m[\u001b[0m\u001b[0mGamma\u001b[0m\u001b[0;34m,\u001b[0m \u001b[0mcovariance_matrix_gamma\u001b[0m\u001b[0;34m,\u001b[0m \u001b[0mdlnf_mean\u001b[0m\u001b[0;34m,\u001b[0m \u001b[0mcovariance_dlnf\u001b[0m\u001b[0;34m]\u001b[0m\u001b[0;34m=\u001b[0m\u001b[0mGamma\u001b[0m\u001b[0;34m.\u001b[0m\u001b[0mGamma_reco\u001b[0m\u001b[0;34m(\u001b[0m\u001b[0mfhat_reco_maglim\u001b[0m\u001b[0;34m,\u001b[0m \u001b[0mJhat_reco\u001b[0m\u001b[0;34m,\u001b[0m \u001b[0minclude_cov01\u001b[0m \u001b[0;34m=\u001b[0m \u001b[0;32mTrue\u001b[0m\u001b[0;34m)\u001b[0m\u001b[0;34m\u001b[0m\u001b[0;34m\u001b[0m\u001b[0m\n\u001b[0m",
      "\u001b[0;31mAttributeError\u001b[0m: 'numpy.ndarray' object has no attribute 'Gamma_reco'"
     ]
    }
   ],
   "source": [
    "[Gamma, covariance_matrix_gamma, dlnf_mean, covariance_dlnf]=calculate_Gamma.Gamma_reco(fhat_reco_maglim, Jhat_reco, include_cov01 = True)"
   ]
  },
  {
   "cell_type": "code",
   "execution_count": null,
   "id": "fd6f6f18",
   "metadata": {},
   "outputs": [],
   "source": [
    "[Gamma2, covariance_matrix_gamma2, dlnf_mean2, covariance_dlnf2]=calculate_Gamma.Gamma_reco(fhat_reco_maglim2, Jhat_reco, include_cov01 = True)"
   ]
  },
  {
   "cell_type": "code",
   "execution_count": null,
   "id": "badd7f2c",
   "metadata": {},
   "outputs": [],
   "source": [
    "stdev_Gamma = np.sqrt(np.diag(covariance_matrix_gamma))\n",
    "stdev_Gamma2 = np.sqrt(np.diag(covariance_matrix_gamma2))"
   ]
  },
  {
   "cell_type": "code",
   "execution_count": null,
   "id": "4e290ffd",
   "metadata": {},
   "outputs": [],
   "source": [
    "[dlnf, dlnf_cov] = calculate_Gamma.dlnf_dln1pz(fhat_reco)\n",
    "err_dlnf = np.sqrt(np.diag(dlnf_cov))"
   ]
  },
  {
   "cell_type": "code",
   "execution_count": null,
   "id": "7356c9af",
   "metadata": {},
   "outputs": [],
   "source": [
    "[dlnf2, dlnf_cov2] = calculate_Gamma.dlnf_dln1pz(fhat_reco2)\n",
    "err_dlnf2 = np.sqrt(np.diag(dlnf_cov2))"
   ]
  },
  {
   "cell_type": "code",
   "execution_count": 27,
   "id": "a713501e",
   "metadata": {},
   "outputs": [
    {
     "ename": "AttributeError",
     "evalue": "'numpy.ndarray' object has no attribute 'dlnf_dln1pz'",
     "output_type": "error",
     "traceback": [
      "\u001b[0;31m---------------------------------------------------------------------------\u001b[0m",
      "\u001b[0;31mAttributeError\u001b[0m                            Traceback (most recent call last)",
      "\u001b[0;32m<ipython-input-27-9e2e46244ef4>\u001b[0m in \u001b[0;36m<module>\u001b[0;34m\u001b[0m\n\u001b[0;32m----> 1\u001b[0;31m \u001b[0;34m[\u001b[0m\u001b[0mdlnf_maglim\u001b[0m\u001b[0;34m,\u001b[0m \u001b[0mdlnf_cov_maglim\u001b[0m\u001b[0;34m]\u001b[0m \u001b[0;34m=\u001b[0m \u001b[0mGamma\u001b[0m\u001b[0;34m.\u001b[0m\u001b[0mdlnf_dln1pz\u001b[0m\u001b[0;34m(\u001b[0m\u001b[0mfhat_reco_maglim\u001b[0m\u001b[0;34m)\u001b[0m\u001b[0;34m\u001b[0m\u001b[0;34m\u001b[0m\u001b[0m\n\u001b[0m\u001b[1;32m      2\u001b[0m \u001b[0merr_dlnf_maglim\u001b[0m \u001b[0;34m=\u001b[0m \u001b[0mnp\u001b[0m\u001b[0;34m.\u001b[0m\u001b[0msqrt\u001b[0m\u001b[0;34m(\u001b[0m\u001b[0mnp\u001b[0m\u001b[0;34m.\u001b[0m\u001b[0mdiag\u001b[0m\u001b[0;34m(\u001b[0m\u001b[0mdlnf_cov_maglim\u001b[0m\u001b[0;34m)\u001b[0m\u001b[0;34m)\u001b[0m\u001b[0;34m\u001b[0m\u001b[0;34m\u001b[0m\u001b[0m\n",
      "\u001b[0;31mAttributeError\u001b[0m: 'numpy.ndarray' object has no attribute 'dlnf_dln1pz'"
     ]
    }
   ],
   "source": [
    "[dlnf_maglim, dlnf_cov_maglim] = calculate_Gamma.dlnf_dln1pz(fhat_reco_maglim)\n",
    "err_dlnf_maglim = np.sqrt(np.diag(dlnf_cov_maglim))"
   ]
  },
  {
   "cell_type": "code",
   "execution_count": 23,
   "id": "101591be",
   "metadata": {},
   "outputs": [],
   "source": [
    "dlnf_LCDM = fhat_derivative * (1+z_range)/fhat_values"
   ]
  },
  {
   "cell_type": "markdown",
   "id": "dce4e793",
   "metadata": {},
   "source": [
    "#### Plots for fifth force paper (current constraints)"
   ]
  },
  {
   "cell_type": "code",
   "execution_count": null,
   "id": "6d5d5eec",
   "metadata": {},
   "outputs": [],
   "source": [
    "plt.figure(figsize=(6, 5))\n",
    "\n",
    "# Plot spline interpolation\n",
    "fill1 = plt.fill_between(\n",
    "    fhat_reco['x'],\n",
    "    dlnf - err_dlnf,\n",
    "    dlnf + err_dlnf,\n",
    "    color='C0',\n",
    "    alpha=0.3,\n",
    "    label='4 knots'\n",
    ")\n",
    "\n",
    "#Plot inferred values\n",
    "plt.errorbar(maglim_zeff, dlnf_maglim, fmt = '.', yerr = err_dlnf_maglim, \n",
    "             label='MagLim redshifts', color = 'red', linewidth = 2)\n",
    "\n",
    "\n",
    "plt.xlabel(\"$z$\", fontsize=16)\n",
    "plt.ylabel('$\\\\mathrm{d}\\,\\ln\\hat{f}(z)/\\\\mathrm{d}\\,\\ln(1+z)$', fontsize = 16)\n",
    "plt.xlim(0.0,2.0)\n",
    "plt.ylim(-1.2,1.2)\n",
    "\n",
    "\n",
    "\n",
    "line = plt.plot(z_range, dlnf_LCDM, color='black', label='No fifth force', linewidth=1)[0]\n",
    "\n",
    "plt.savefig(\"dlnf.png\", dpi=600, bbox_inches='tight')"
   ]
  },
  {
   "cell_type": "code",
   "execution_count": null,
   "id": "775ecd90",
   "metadata": {
    "scrolled": true
   },
   "outputs": [],
   "source": [
    "plt.figure(figsize=(6, 5))\n",
    "\n",
    "fill1 = plt.fill_between(\n",
    "    fhat_reco['x'],\n",
    "    dlnf - err_dlnf,\n",
    "    dlnf + err_dlnf,\n",
    "    color='C0',\n",
    "    alpha=0.3,\n",
    "    label='4 knots'\n",
    ")\n",
    "\n",
    "fill2 = plt.fill_between(\n",
    "    fhat_reco2['x'],\n",
    "    dlnf2 - err_dlnf2,\n",
    "    dlnf2 + err_dlnf2,\n",
    "    color='orange',\n",
    "    alpha=0.3,\n",
    "    label='3 knots'\n",
    ")\n",
    "\n",
    "\n",
    "\n",
    "plt.xlabel(\"$z$\", fontsize=16)\n",
    "plt.ylabel('$\\\\mathrm{d}\\,\\ln\\hat{f}(z)/\\\\mathrm{d}\\,\\ln(1+z)$', fontsize = 16)\n",
    "plt.xlim(0.0,2.0)\n",
    "plt.ylim(-1.2,1.2)\n",
    "\n",
    "errbar = plt.errorbar([1], [-10], yerr=[0.01], fmt='.', label='Measured $f\\sigma_8$ data',\n",
    "                      color='black', elinewidth=1)\n",
    "\n",
    "line = plt.plot(z_range, dlnf_LCDM, color='black', label='No fifth force', linewidth=1)[0]\n",
    "\n",
    "\n",
    "plt.savefig(\"dlnf_3_4.png\", dpi=600, bbox_inches='tight')"
   ]
  },
  {
   "cell_type": "code",
   "execution_count": null,
   "id": "bb25ede9",
   "metadata": {},
   "outputs": [],
   "source": [
    "plt.figure(figsize=(6, 5))\n",
    "#Plot the LCDM prediction\n",
    "zval=np.linspace(0,2,100)\n",
    "fhat_LCDM = calculate_Gamma.fhat_LCDM(zval) \n",
    "plt.plot(zval, fhat_LCDM, label='No fifth force', color = 'black', linewidth = 1)\n",
    "\n",
    "\n",
    "#Plot measured data\n",
    "plt.errorbar(z_data, fhat_data, yerr = fhat_data_errors, fmt = '.', label = 'Measured data', color = 'black', elinewidth=1)\n",
    "    \n",
    "\n",
    "#Plot reconstructed functions\n",
    "\n",
    "plt.fill_between(fhat_reco['x'], fhat_reco['mean']+std_devs_all, fhat_reco['mean']-std_devs_all, \n",
    "                 color='C0', alpha = 0.3, label='Spline reconstruction')\n",
    "        \n",
    "\n",
    "#Plot inferred values\n",
    "plt.errorbar(maglim_zeff, fhat_reco_maglim['mean'], fmt = '.', yerr = std_devs_maglim, \n",
    "             label='MagLim redshifts', color = 'red', linewidth = 2)\n",
    "\n",
    "\n",
    "ticks = [0.00, 0.25, 0.50, 0.75, 1.00, 1.25, 1.50, 1.75, 2.00]\n",
    "\n",
    "# Set the x-axis ticks\n",
    "plt.xticks(ticks,fontsize=14)\n",
    "plt.yticks(fontsize=14)\n",
    "\n",
    "\n",
    "plt.xlabel(\"$z$\", fontsize=16)\n",
    "plt.ylabel(\"$\\hat{f}\\,(z)$\", fontsize=16)\n",
    "#plt.ylim(0.1, 0.8)\n",
    "plt.xlim(-0.05,2.05)\n",
    "plt.legend(ncol=2, prop={'size': 9.8},  columnspacing=0.7, fontsize = 12)\n",
    "#plt.title(title)\n",
    "plt.tight_layout()\n",
    "plt.savefig(\"results_fhat_interpolation_new.png\",dpi=600, bbox_inches='tight')\n",
    "plt.show()"
   ]
  },
  {
   "cell_type": "code",
   "execution_count": null,
   "id": "c0397594",
   "metadata": {
    "scrolled": true
   },
   "outputs": [],
   "source": [
    "plt.figure(figsize=(6, 5))\n",
    "#Plot the LCDM prediction\n",
    "zval=np.linspace(0,2,100)\n",
    "fhat_LCDM = calculate_Gamma.fhat_LCDM(zval) \n",
    "GR = plt.plot(zval, fhat_LCDM, label='No fifth force', color = 'black', linewidth = 1)\n",
    "\n",
    "\n",
    "#Plot measured data\n",
    "data = plt.errorbar(z_data, fhat_data, yerr = fhat_data_errors, fmt = '.', label = 'Measured data', color = 'black', elinewidth=1)\n",
    "    \n",
    "\n",
    "#Plot reconstructed functions\n",
    "\n",
    "fill1 = plt.fill_between(fhat_reco['x'], fhat_reco['mean']+std_devs_all, fhat_reco['mean']-std_devs_all, \n",
    "                 color='C0', alpha = 0.3, label='4 knots')\n",
    "\n",
    "fill2 = plt.fill_between(fhat_reco2['x'], fhat_reco2['mean']+std_devs_all2, fhat_reco2['mean']-std_devs_all2, \n",
    "                 color='orange', alpha = 0.3, label='3 knots')\n",
    "        \n",
    "    \n",
    "\n",
    "ticks = [0.00, 0.25, 0.50, 0.75, 1.00, 1.25, 1.50, 1.75, 2.00]\n",
    "\n",
    "# Set the x-axis ticks\n",
    "plt.xticks(ticks,fontsize=14)\n",
    "plt.yticks(fontsize=14)\n",
    "\n",
    "# Then, collect handles and labels manually\n",
    "handles = [fill1, fill2, errbar, line]\n",
    "labels = ['4 knots', '3 knots', 'Measured data', 'No fifth force']\n",
    "\n",
    "# Then set the legend with desired order and spacing\n",
    "plt.legend(handles, labels, fontsize=12, ncol=2)\n",
    "\n",
    "\n",
    "plt.xlabel(\"$z$\", fontsize=16)\n",
    "plt.ylabel(\"$\\hat{f}\\,(z)$\", fontsize=16)\n",
    "#plt.ylim(0.1, 0.8)\n",
    "plt.xlim(-0.05,2.05)\n",
    "#plt.title(title)\n",
    "plt.tight_layout()\n",
    "plt.savefig(\"results_fhat_3_4.png\",dpi=600, bbox_inches='tight')\n",
    "plt.show()"
   ]
  },
  {
   "cell_type": "code",
   "execution_count": null,
   "id": "4f9bcc3f",
   "metadata": {
    "scrolled": false
   },
   "outputs": [],
   "source": [
    "plt.figure(figsize=(6, 5))\n",
    "\n",
    "plt.plot(np.linspace(0.2,0.9,50), np.full(50, 0), color='black', linewidth=1.0)\n",
    "\n",
    "# Plot the measured data with larger markers and wider error bars\n",
    "plt.errorbar(maglim_zeff-0.005, Gamma - 1, yerr=stdev_Gamma, fmt='.', markersize=10, elinewidth=2, color = 'red', label = '4 knots')\n",
    "\n",
    "# Plot the measured data with larger markers and wider error bars\n",
    "plt.errorbar(maglim_zeff+0.005, Gamma2 - 1, yerr=stdev_Gamma2, fmt='.', markersize=10, elinewidth=2, color = 'orange', label = '3 knots')\n",
    "\n",
    "\n",
    "plt.xlabel(\"z\", fontsize=16)\n",
    "plt.ylabel(\"$\\Gamma\\,(z)$\", fontsize=16)\n",
    "plt.xlim(0.2,0.9)\n",
    "# plt.ylim(ylim_lower, ylim_upper)\n",
    "plt.legend(ncol = 2, loc = 'upper center', fontsize = 12)\n",
    "plt.xticks(fontsize=14)\n",
    "plt.yticks(fontsize=14)\n",
    "plt.savefig(\"results_Gamma_3_4.png\", dpi=600, bbox_inches='tight')"
   ]
  },
  {
   "cell_type": "code",
   "execution_count": null,
   "id": "bc83209d",
   "metadata": {},
   "outputs": [],
   "source": [
    "def const_Gamma(z, Gamma_const_val):\n",
    "    return Gamma_const_val"
   ]
  },
  {
   "cell_type": "code",
   "execution_count": null,
   "id": "a145ed5b",
   "metadata": {},
   "outputs": [],
   "source": [
    "Omm0 = 0.311\n",
    "OmL0 = 1 - 0.311\n",
    "\n",
    "def Omega_L(z):\n",
    "    return OmL0/(OmL0+Omm0*(1+z)**3)\n",
    "\n",
    "def Gamma_DE(z, Gamma0):\n",
    "    return 1+Gamma0*Omega_L(z)/OmL0"
   ]
  },
  {
   "cell_type": "code",
   "execution_count": null,
   "id": "42f3712e",
   "metadata": {
    "scrolled": true
   },
   "outputs": [],
   "source": [
    "[Gamma0_mean, Gamma0_stdev2] = curve_fit(Gamma_DE, maglim_zeff, Gamma, sigma=covariance_matrix_gamma, absolute_sigma=True)\n",
    "Gamma0_stdev = np.sqrt(Gamma0_stdev2)\n",
    "print(Gamma0_mean, Gamma0_stdev)"
   ]
  },
  {
   "cell_type": "code",
   "execution_count": null,
   "id": "96c38cb1",
   "metadata": {
    "scrolled": false
   },
   "outputs": [],
   "source": [
    "[const_Gamma_mean, const_Gamma_stdev2] = curve_fit(const_Gamma, maglim_zeff, Gamma, sigma=covariance_matrix_gamma, absolute_sigma=True)\n",
    "const_Gamma_stdev = np.sqrt(const_Gamma_stdev2)\n",
    "print(const_Gamma_mean, const_Gamma_stdev)"
   ]
  },
  {
   "cell_type": "code",
   "execution_count": null,
   "id": "0df6f208",
   "metadata": {},
   "outputs": [],
   "source": [
    "plt.figure(figsize=(6, 5))\n",
    "\n",
    "color_fit = 'forestgreen'\n",
    "plt.plot(np.linspace(0.2,0.9,2), np.full(2, const_Gamma_mean-1), color=color_fit, linewidth=1.5, alpha = 0.8, label='Constant $\\Gamma(z)$')\n",
    "plt.fill_between([0.2,0.9], np.full(2,const_Gamma_mean-1-const_Gamma_stdev), np.full(2,const_Gamma_mean-1+const_Gamma_stdev), \n",
    "                 color=color_fit, alpha = 0.2)\n",
    "\n",
    "plt.plot(np.linspace(0.2,0.9,50), np.full(50, 0), color='black', linewidth=1.0)\n",
    "\n",
    "# Plot the measured data with larger markers and wider error bars\n",
    "plt.errorbar(maglim_zeff, Gamma - 1, yerr=stdev_Gamma, fmt='.', markersize=10, elinewidth=2, color = 'red', label = 'MagLim redshifts')\n",
    "\n",
    "# Include Fifth force evolving with DE density\n",
    "\n",
    "plt.plot(np.linspace(0.2,0.9,100), Gamma_DE(np.linspace(0.2,0.9,100), Gamma0_mean)-1, color='blue', alpha = 0.8, linewidth=1.5, label = '$\\Gamma(z)$ evolving with DE')\n",
    "plt.plot(np.linspace(0.2,0.9,100), Gamma_DE(np.linspace(0.2,0.9,100), Gamma0_mean+Gamma0_stdev[0])-1,'--', color='blue', alpha = 0.8, linewidth=1.)\n",
    "plt.plot(np.linspace(0.2,0.9,100), Gamma_DE(np.linspace(0.2,0.9,100), Gamma0_mean-Gamma0_stdev[0])-1,'--', color='blue', alpha = 0.8, linewidth=1.)\n",
    "\n",
    "\n",
    "plt.xlabel(\"z\", fontsize=16)\n",
    "plt.ylabel(\"$\\Gamma\\,(z)$\", fontsize=16)\n",
    "plt.xlim(0.2,0.9)\n",
    "# plt.ylim(ylim_lower, ylim_upper)\n",
    "plt.legend(fontsize = 12, loc = 'upper left')\n",
    "plt.xticks(fontsize=14)\n",
    "plt.yticks(fontsize=14)\n",
    "plt.savefig(\"results_Gamma_withDE.png\", dpi=600, bbox_inches='tight')"
   ]
  },
  {
   "cell_type": "code",
   "execution_count": null,
   "id": "2d8db8c6",
   "metadata": {},
   "outputs": [],
   "source": []
  }
 ],
 "metadata": {
  "kernelspec": {
   "display_name": "Python 3",
   "language": "python",
   "name": "python3"
  },
  "language_info": {
   "codemirror_mode": {
    "name": "ipython",
    "version": 3
   },
   "file_extension": ".py",
   "mimetype": "text/x-python",
   "name": "python",
   "nbconvert_exporter": "python",
   "pygments_lexer": "ipython3",
   "version": "3.6.13"
  }
 },
 "nbformat": 4,
 "nbformat_minor": 5
}
