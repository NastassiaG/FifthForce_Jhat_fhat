{
 "cells": [
  {
   "cell_type": "code",
   "execution_count": 1,
   "id": "d8b456ff",
   "metadata": {},
   "outputs": [],
   "source": [
    "import numpy as np\n",
    "from importlib import reload\n",
    "import interpolate_fhat_Jhat as intf\n",
    "import matplotlib.pyplot as plt\n",
    "import calculate_Gamma \n",
    "from scipy.interpolate import interp1d, splev, splrep\n",
    "from statistics import stdev\n",
    "from scipy.optimize import curve_fit"
   ]
  },
  {
   "cell_type": "markdown",
   "id": "e5ed5300",
   "metadata": {},
   "source": [
    "### Data"
   ]
  },
  {
   "cell_type": "code",
   "execution_count": 2,
   "id": "3e7abaa0",
   "metadata": {},
   "outputs": [],
   "source": [
    "# Data as described in 2403.13709\n",
    "z_data = np.array([0.001, 0.02, 0.02, 0.02, 0.15, 0.17, 0.18, 0.38, 0.38, 0.51, 0.70, 0.85, 0.60, 0.86, 1.40, 0.44, 0.60, 0.73, 0.978, 1.23, 1.526, 1.944])\n",
    "fhat_data = np.array([0.505, 0.428, 0.398, 0.314, 0.530, 0.51, 0.36, 0.44, 0.497, 0.459, 0.473, 0.315, 0.55, 0.4, 0.482, 0.413, 0.390, 0.437, 0.379, 0.385, 0.342, 0.364])\n",
    "fhat_data_errors = np.array([0.085, 0.0465, 0.065, 0.048, 0.16, 0.06, 0.09, 0.06, 0.045, 0.038, 0.041, 0.095, 0.12, 0.11, 0.116, 0.08, 0.063, 0.072, 0.176, 0.099, 0.07, 0.106])"
   ]
  },
  {
   "cell_type": "code",
   "execution_count": 3,
   "id": "cc9ca343",
   "metadata": {},
   "outputs": [],
   "source": [
    "# Building the full covariance, taking the one of WiggleZ measurements and of SDSS-IV quasars into account\n",
    "fhat_cov_partial = np.diag(fhat_data_errors[:len(z_data)-7]**2)\n",
    "\n",
    "covariance_wiggle = 1e-3*np.array([[6.400, 2.570, 0.000],\n",
    "                                   [2.570, 3.969, 2.540], \n",
    "                                   [0.000, 2.540, 5.184]])\n",
    "covariance_SDSS = 1e-2*np.array([[3.098, 0.892, 0.329, -0.021],\n",
    "                                 [0.892, 0.980, 0.436, 0.076],\n",
    "                                 [0.329, 0.436, 0.490, 0.350],\n",
    "                                 [-0.021, 0.076, 0.350, 1.124]])\n",
    "\n",
    "fhat_data_covariance = np.block([[fhat_cov_partial, np.zeros([np.shape(fhat_cov_partial)[0],7])],\n",
    "                             [np.zeros([3,np.shape(fhat_cov_partial)[0]]),covariance_wiggle, np.zeros([3,4])],\n",
    "                             [np.zeros([4, np.shape(fhat_cov_partial)[0]+3]),covariance_SDSS]])\n",
    "\n",
    "fhat_data_current = {\n",
    "    'z' : z_data,\n",
    "    'mean' : fhat_data,\n",
    "    'cov' : fhat_data_covariance\n",
    "}"
   ]
  },
  {
   "cell_type": "code",
   "execution_count": 4,
   "id": "8607d37b",
   "metadata": {},
   "outputs": [],
   "source": [
    "# Jhat baseline Polychord\n",
    "maglim_zeff=np.array([0.295, 0.467, 0.626, 0.771])\n",
    "Jhat_maglim=np.array([0.32546732, 0.33277392, 0.38656369, 0.35394343])\n",
    "Jhat_covariance = np.array([[2.22596522e-04, 7.44557424e-05, 5.89004236e-05, 7.71102354e-05],\n",
    " [7.44557424e-05, 3.37844968e-04, 1.05329570e-04, 1.38623775e-04],\n",
    " [5.89004236e-05, 1.05329570e-04, 7.55843341e-04, 3.65660247e-04],\n",
    " [7.71102354e-05, 1.38623775e-04, 3.65660247e-04, 1.24053020e-03]])"
   ]
  },
  {
   "cell_type": "code",
   "execution_count": 5,
   "id": "ea63f473",
   "metadata": {},
   "outputs": [],
   "source": [
    "Jhat_errors = np.sqrt(np.diag(Jhat_covariance))"
   ]
  },
  {
   "cell_type": "code",
   "execution_count": 6,
   "id": "e0ebcee9",
   "metadata": {},
   "outputs": [],
   "source": [
    "Jhat_data = {\n",
    "    'mean' : Jhat_maglim,\n",
    "    'cov' : Jhat_covariance,\n",
    "}"
   ]
  },
  {
   "cell_type": "markdown",
   "id": "56a07d91",
   "metadata": {},
   "source": [
    "### Theoretical predictions"
   ]
  },
  {
   "cell_type": "code",
   "execution_count": 7,
   "id": "4ba1e547",
   "metadata": {},
   "outputs": [],
   "source": [
    "z_range=np.linspace(0,2,100)\n",
    "\n",
    "#Predictions in a LCDM Universe without any fifth force present\n",
    "fhat_LCDM = calculate_Gamma.fhat_LCDM(z_range)\n",
    "dlnf_LCDM = np.gradient(fhat_LCDM, z_range) * (1+z_range)/fhat_LCDM #dlnf/dln(1+z)"
   ]
  },
  {
   "cell_type": "code",
   "execution_count": 8,
   "id": "f4246875",
   "metadata": {},
   "outputs": [],
   "source": [
    "Jhat_LCDM = calculate_Gamma.Jhat_LCDM(z_range, Omega_m0 = 0.328, sigma_80 = 0.852)\n",
    "Jhat_derivative = np.gradient(Jhat_LCDM, z_range)"
   ]
  },
  {
   "cell_type": "markdown",
   "id": "ad67975b",
   "metadata": {},
   "source": [
    "### Spline reconstruction of fhat"
   ]
  },
  {
   "cell_type": "markdown",
   "id": "daf02e05",
   "metadata": {},
   "source": [
    "#### Checking the AIC and BIC for different numbers of knots"
   ]
  },
  {
   "cell_type": "code",
   "execution_count": 9,
   "id": "b4d5d94d",
   "metadata": {},
   "outputs": [],
   "source": [
    "def IC(best_fit_values, zarray):\n",
    "    chi_squared = intf.chi_squared_spline(best_fit_values, zarray, z_data = z_data, fhat_data = fhat_data, \n",
    "                                          fhat_data_covariance = fhat_data_covariance, use_covariance = True)\n",
    "    AIC = 2*len(zarray)+2*chi_squared\n",
    "    BIC= np.log(len(z_data))*len(zarray)+2*chi_squared\n",
    "    return [chi_squared, AIC, BIC]  "
   ]
  },
  {
   "cell_type": "code",
   "execution_count": 10,
   "id": "279c6a55",
   "metadata": {},
   "outputs": [
    {
     "name": "stdout",
     "output_type": "stream",
     "text": [
      "[0.8498833809425145, 0.7723833458840795, 0.7921296507766393, 0.8392106764535627, 0.8864118578412501, 0.9451649687204933, 0.9459011450588404]\n",
      "[38.29556847581555, 35.80580045182686, 36.93240812640573, 38.85474164651401, 40.592355735237504, 42.46461912417381, 42.59342977152985]\n",
      "[41.568695835890495, 40.169970265260126, 42.38762039319732, 45.400996366663904, 48.22965290874572, 51.19295875104034, 52.4128118517547]\n"
     ]
    }
   ],
   "source": [
    "AIC_values=[]\n",
    "BIC_values=[]\n",
    "chi_squared_values=[]\n",
    "\n",
    "for n in range(3,10):\n",
    "\n",
    "    # Calculate percentiles\n",
    "    percentiles = np.linspace(0, 100, n+2)\n",
    "\n",
    "    # Find values corresponding to percentiles\n",
    "    knot_values = np.percentile(z_data, percentiles)[1:n+1]\n",
    "    [best_fit_values_test, covariance_matrix_test] = intf.minuit_spline(knot_values, z_data = z_data, fhat_data = fhat_data, \n",
    "                                          fhat_data_covariance = fhat_data_covariance, use_covariance = True)\n",
    "    [chi_squared, AIC, BIC]=IC(best_fit_values_test, knot_values)\n",
    "    chi_squared_values.append(chi_squared/(22-n))\n",
    "    AIC_values.append(AIC)\n",
    "    BIC_values.append(BIC)\n",
    "    \n",
    "print(chi_squared_values)\n",
    "print(AIC_values)\n",
    "print(BIC_values)"
   ]
  },
  {
   "cell_type": "markdown",
   "id": "bda3b425",
   "metadata": {},
   "source": [
    "#### Spline reconstruction with four knots at MagLim redshifs, and comparison case with three knots"
   ]
  },
  {
   "cell_type": "code",
   "execution_count": 11,
   "id": "222982d0",
   "metadata": {
    "scrolled": true
   },
   "outputs": [],
   "source": [
    "# Using maglim_zeff as knot values\n",
    "\n",
    "# Generate best fit values (for fhat at knots) and cov matrix\n",
    "[best_fit_values_maglim, covariance_matrix_maglim] = intf.minuit_spline(maglim_zeff,z_data = z_data, fhat_data = fhat_data, fhat_data_errors = fhat_data_errors, \n",
    "                                                                        fhat_data_covariance = fhat_data_covariance, use_covariance = True)\n",
    "\n",
    "# Reconstruction at whole redshift range\n",
    "fhat_reco = intf.spline_reconstruction(best_fit_values_maglim, covariance_matrix_maglim, return_covariance = True)\n",
    "# This gives you fhat_reco['x'] (redshifts), fhat_reco['mean'], fhat_reco['cov'], \n",
    "# fhat_reco['mean_d1'] (derivatives), fhat_reco['cov_d1'] (covariance of derivatives), and fhat_reco['cov_01'] (cov. between values of the function and its derivatives)\n",
    "\n",
    "# Reconstruction at MagLim redshifts\n",
    "fhat_reco_maglim = intf.spline_reconstruction(best_fit_values_maglim, covariance_matrix_maglim, zarray = maglim_zeff, z_range = maglim_zeff, return_covariance = True)"
   ]
  },
  {
   "cell_type": "code",
   "execution_count": 12,
   "id": "faa77e7d",
   "metadata": {},
   "outputs": [],
   "source": [
    "# Comparison case with three knots (as a comparison)\n",
    "# Note: Placement of these three knots does not matter, see paper for more explanation\n",
    "three_knot_values = np.array([0.5,1.0,1.5])\n",
    "\n",
    "# Generate best fit values (for fhat at knots) and cov matrix\n",
    "[best_fit_values_maglim_3knots, covariance_matrix_maglim_3knots] = intf.minuit_spline(three_knot_values, z_data = z_data, fhat_data = fhat_data, \n",
    "                                                                          fhat_data_errors = fhat_data_errors, fhat_data_covariance = fhat_data_covariance, use_covariance = True)\n",
    "\n",
    "# Reconstruction at whole redshift range\n",
    "fhat_reco_3knots = intf.spline_reconstruction(best_fit_values_maglim_3knots, covariance_matrix_maglim_3knots, return_covariance = True, zarray = three_knot_values)\n",
    "\n",
    "# Reconstruction at MagLim redshifts\n",
    "fhat_reco_maglim_3knots = intf.spline_reconstruction(best_fit_values_maglim_3knots, covariance_matrix_maglim_3knots, zarray=three_knot_values, \n",
    "                                              z_range = maglim_zeff, return_covariance = True)"
   ]
  },
  {
   "cell_type": "code",
   "execution_count": 13,
   "id": "9969fed5",
   "metadata": {},
   "outputs": [],
   "source": [
    "# Standard devs. for the reconstruction of fhat \n",
    "# Baseline case (Knots at MagLim redshifts)\n",
    "fhat_stdev = np.sqrt(np.diag(fhat_reco['cov'])) # at whole redshift range\n",
    "fhat_stdev_maglim = np.sqrt(np.diag(fhat_reco_maglim['cov'])) # at MagLim redshifts\n",
    "\n",
    "# Comparison case with three knots\n",
    "fhat_stdev_3knots = np.sqrt(np.diag(fhat_reco_3knots['cov'])) # at whole redshift range\n",
    "fhat_stdev_maglim_3knots = np.sqrt(np.diag(fhat_reco_maglim_3knots['cov'])) # at MagLim redshifts"
   ]
  },
  {
   "cell_type": "code",
   "execution_count": 14,
   "id": "93ed432b",
   "metadata": {
    "scrolled": true
   },
   "outputs": [
    {
     "data": {
      "image/png": "[encoded data removed]",
      "text/plain": [
       "<Figure size 432x360 with 1 Axes>"
      ]
     },
     "metadata": {
      "needs_background": "light"
     },
     "output_type": "display_data"
    }
   ],
   "source": [
    "### Plot reconstruction of fhat (baseline case) with inferred values at MagLim redshifts\n",
    "\n",
    "plt.figure(figsize=(6, 5))\n",
    "\n",
    "# Prediction without a fifth force\n",
    "plt.plot(z_range, fhat_LCDM, label='No fifth force', color = 'black', linewidth = 1)\n",
    "\n",
    "\n",
    "# Plot measured data\n",
    "plt.errorbar(z_data, fhat_data, yerr = fhat_data_errors, fmt = '.', label = 'Measured data', color = 'black', elinewidth=1)\n",
    "    \n",
    "\n",
    "# Plot reconstructed function\n",
    "plt.fill_between(fhat_reco['x'], fhat_reco['mean']+fhat_stdev, fhat_reco['mean']-fhat_stdev, \n",
    "                 color='C0', alpha = 0.3, label='Spline reconstruction')\n",
    "        \n",
    "# Plot inferred values at MagLim redshifts\n",
    "plt.errorbar(maglim_zeff, fhat_reco_maglim['mean'], fmt = '.', yerr = fhat_stdev_maglim, \n",
    "             label='MagLim redshifts', color = 'red', linewidth = 2)\n",
    "\n",
    "\n",
    "ticks = [0.00, 0.25, 0.50, 0.75, 1.00, 1.25, 1.50, 1.75, 2.00]\n",
    "plt.xticks(ticks,fontsize=14)\n",
    "plt.yticks(fontsize=14)\n",
    "plt.xlabel(\"$z$\", fontsize=16)\n",
    "plt.ylabel(\"$\\hat{f}\\,(z)$\", fontsize=16)\n",
    "plt.xlim(-0.05,2.05)\n",
    "plt.ylim(0.19,0.75)\n",
    "plt.legend(ncol=2, prop={'size': 9.8},  columnspacing=0.7, fontsize = 12)\n",
    "plt.tight_layout()\n",
    "plt.savefig(\"Figures/results_fhat_interpolation.pdf\",dpi=600, bbox_inches='tight')\n",
    "plt.show()"
   ]
  },
  {
   "cell_type": "code",
   "execution_count": 15,
   "id": "ad2f42fb",
   "metadata": {},
   "outputs": [],
   "source": [
    "# Produce source data file for Fig1, left panel\n",
    "# Open file and write\n",
    "with open(\"Source_Data_Files/figure1.txt\", \"w\") as f:\n",
    "    f.write(\"#Left panel: Reconstruction of fhat.\\n\")\n",
    "    f.write(\"#Measured data\\n\")\n",
    "    f.write(\"#z\\tfhat\\terrors\\n\")  # column headers\n",
    "    \n",
    "    # Write data rows\n",
    "    for z, fhat, err in zip(z_data, fhat_data, fhat_data_errors):\n",
    "        f.write(f\"{z:.6f}\\t{fhat:.6f}\\t{err:.6f}\\n\")\n",
    "        \n",
    "    # One blank line\n",
    "    f.write(\"\\n\")\n",
    "    \n",
    "    # Second block\n",
    "    f.write(\"#Reconstruction at MagLim redshifts\\n\")\n",
    "    f.write(\"z\\tfhat\\tfhat_error\\n\")\n",
    "    for z, mean, err in zip(maglim_zeff, fhat_reco_maglim[\"mean\"], fhat_stdev_maglim):\n",
    "        f.write(f\"{z:.6f}\\t{mean:.6f}\\t{err:.6f}\\n\")        \n",
    "        \n",
    "    # One blank line\n",
    "    f.write(\"\\n\")\n",
    "    \n",
    "    # Third block\n",
    "    f.write(\"#Spline reconstruction\\n\")\n",
    "    f.write(\"#z\\tfhat\\tfhat_error\\n\")\n",
    "    for z, mean, err in zip(z_range, fhat_reco[\"mean\"], fhat_stdev):\n",
    "        f.write(f\"{z:.6f}\\t{mean:.6f}\\t{err:.6f}\\n\")\n",
    "\n",
    "    # One blank line\n",
    "    f.write(\"\\n\")\n",
    "    \n",
    "    # Fourth block\n",
    "    f.write(\"#Standard prediction without a fifth force\\n\")\n",
    "    f.write(\"#z\\tfhat\\n\")\n",
    "    for z, fhat in zip(z_range, fhat_LCDM):\n",
    "        f.write(f\"{z:.6f}\\t{fhat:.6f}\\n\")"
   ]
  },
  {
   "cell_type": "code",
   "execution_count": 16,
   "id": "124ce3fc",
   "metadata": {
    "scrolled": true
   },
   "outputs": [
    {
     "data": {
      "image/png": "[encoded data removed]",
      "text/plain": [
       "<Figure size 432x360 with 1 Axes>"
      ]
     },
     "metadata": {
      "needs_background": "light"
     },
     "output_type": "display_data"
    }
   ],
   "source": [
    "### Plot of fhat, comparison between 4 knots and 3 knots\n",
    "\n",
    "plt.figure(figsize=(6, 5))\n",
    "\n",
    "#Plot the LCDM prediction with no fifth force\n",
    "StandardPrediction = plt.plot(z_range, fhat_LCDM, label='No fifth force', color = 'black', linewidth = 1)[0]\n",
    "\n",
    "\n",
    "#Plot measured data\n",
    "data = plt.errorbar(z_data, fhat_data, yerr = fhat_data_errors, fmt = '.', label = 'Measured data', color = 'black', elinewidth=1)\n",
    "    \n",
    "\n",
    "#Plot reconstructed functions\n",
    "\n",
    "fill1 = plt.fill_between(fhat_reco['x'], fhat_reco['mean']+fhat_stdev, fhat_reco['mean']-fhat_stdev, \n",
    "                 color='C0', alpha = 0.3, label='4 knots')\n",
    "\n",
    "fill2 = plt.fill_between(fhat_reco_3knots['x'], fhat_reco_3knots['mean']+fhat_stdev_3knots, fhat_reco_3knots['mean']-fhat_stdev_3knots, \n",
    "                 color='orange', alpha = 0.3, label='3 knots')\n",
    "        \n",
    "    \n",
    "\n",
    "ticks = [0.00, 0.25, 0.50, 0.75, 1.00, 1.25, 1.50, 1.75, 2.00]\n",
    "plt.xticks(ticks,fontsize=14)\n",
    "plt.yticks(fontsize=14)\n",
    "handles = [fill1, fill2, data, StandardPrediction]\n",
    "labels = ['4 knots', '3 knots', 'Measured data', 'No fifth force']\n",
    "plt.legend(handles, labels, fontsize=12, ncol=2, columnspacing=1.4)\n",
    "plt.xlabel(\"$z$\", fontsize=16)\n",
    "plt.ylabel(\"$\\hat{f}\\,(z)$\", fontsize=16)\n",
    "plt.xlim(-0.05,2.05)\n",
    "plt.tight_layout()\n",
    "plt.savefig(\"Figures/results_fhat_3_4.pdf\",dpi=600, bbox_inches='tight')\n",
    "plt.show()"
   ]
  },
  {
   "cell_type": "code",
   "execution_count": 17,
   "id": "413feb18",
   "metadata": {},
   "outputs": [],
   "source": [
    "# Produce source data file for Supplementary Fig1, left panel\n",
    "# Open file and write\n",
    "with open(\"Source_Data_Files/supplementary_figure1.txt\", \"w\") as f:\n",
    "    f.write(\"#Left panel: Reconstruction of fhat.\\n\")\n",
    "    f.write(\"#Measured data\\n\")\n",
    "    f.write(\"#z\\tfhat\\tfhat_error\\n\")  # column headers\n",
    "    \n",
    "    # Write data rows\n",
    "    for z, fhat, err in zip(z_data, fhat_data, fhat_data_errors):\n",
    "        f.write(f\"{z:.6f}\\t{fhat:.6f}\\t{err:.6f}\\n\")     \n",
    "        \n",
    "    # One blank line\n",
    "    f.write(\"\\n\")\n",
    "    \n",
    "    # Third block\n",
    "    f.write(\"#Spline reconstruction with 4 knots\\n\")\n",
    "    f.write(\"#z\\tfhat\\tfhat_error\\n\")\n",
    "    for z, mean, err in zip(z_range, fhat_reco[\"mean\"], fhat_stdev):\n",
    "        f.write(f\"{z:.6f}\\t{mean:.6f}\\t{err:.6f}\\n\")\n",
    "        \n",
    "        \n",
    "    # One blank line\n",
    "    f.write(\"\\n\")\n",
    "    \n",
    "    # Third block\n",
    "    f.write(\"#Spline reconstruction with 3 knots\\n\")\n",
    "    f.write(\"#z\\tfhat\\tfhat_error\\n\")\n",
    "    for z, mean, err in zip(z_range, fhat_reco_3knots[\"mean\"], fhat_stdev_3knots):\n",
    "        f.write(f\"{z:.6f}\\t{mean:.6f}\\t{err:.6f}\\n\")\n",
    "        \n",
    "\n",
    "    # One blank line\n",
    "    f.write(\"\\n\")\n",
    "    \n",
    "    # Fourth block\n",
    "    f.write(\"#Standard prediction without a fifth force\\n\")\n",
    "    f.write(\"#z\\tfhat\\n\")\n",
    "    for z, fhat in zip(z_range, fhat_LCDM):\n",
    "        f.write(f\"{z:.6f}\\t{fhat:.6f}\\n\")"
   ]
  },
  {
   "cell_type": "markdown",
   "id": "3165c861",
   "metadata": {},
   "source": [
    "### Calculating dlnf(z) and Gamma(z) with covariances at MagLim values"
   ]
  },
  {
   "cell_type": "code",
   "execution_count": 18,
   "id": "c623e0ea",
   "metadata": {},
   "outputs": [],
   "source": [
    "# The following computes \\Gamma(z) and d\\ln(\\hat{f})(z)/d\\ln(1+z) and their covariances at LSST redshifts\n",
    "# Baseline case with 4 knots at MagLim redshifts\n",
    "[Gamma_maglim, Gamma_cov_maglim, dlnf_mean_maglim, dlnf_cov_maglim]=calculate_Gamma.Gamma_reco(fhat_reco_maglim, Jhat_data, include_cov01 = True)\n",
    "err_Gamma_maglim = np.sqrt(np.diag(Gamma_cov_maglim))\n",
    "err_dlnf_maglim = np.sqrt(np.diag(dlnf_cov_maglim))\n",
    "\n",
    "# Comparison with 3 knots\n",
    "[Gamma_maglim_3knots, Gamma_cov_maglim_3knots, dlnf_mean_maglim_3knots, dlnf_cov_maglim_3knots]=calculate_Gamma.Gamma_reco(fhat_reco_maglim_3knots, Jhat_data, include_cov01 = True)\n",
    "err_Gamma_maglim_3knots = np.sqrt(np.diag(Gamma_cov_maglim_3knots))\n",
    "err_dlnf_maglim_3knots = np.sqrt(np.diag(dlnf_cov_maglim_3knots))"
   ]
  },
  {
   "cell_type": "markdown",
   "id": "57323b11",
   "metadata": {},
   "source": [
    "### Reconstruction of dln(f) over whole redshift range"
   ]
  },
  {
   "cell_type": "code",
   "execution_count": 19,
   "id": "ef590870",
   "metadata": {},
   "outputs": [],
   "source": [
    "[dlnf, dlnf_cov] = calculate_Gamma.dlnf_dln1pz(fhat_reco)\n",
    "err_dlnf = np.sqrt(np.diag(dlnf_cov))\n",
    "\n",
    "[dlnf_3knots, dlnf_cov_3knots] = calculate_Gamma.dlnf_dln1pz(fhat_reco_3knots)\n",
    "err_dlnf_3knots = np.sqrt(np.diag(dlnf_cov_3knots))"
   ]
  },
  {
   "cell_type": "code",
   "execution_count": 20,
   "id": "6d5d5eec",
   "metadata": {
    "scrolled": true
   },
   "outputs": [
    {
     "data": {
      "image/png": "[encoded data removed]",
      "text/plain": [
       "<Figure size 432x360 with 1 Axes>"
      ]
     },
     "metadata": {
      "needs_background": "light"
     },
     "output_type": "display_data"
    }
   ],
   "source": [
    "# Plotting d\\ln(\\hat{f})(z)/d\\ln(1+z) for the baseline case (4 knots), showing maglim redshifts\n",
    "plt.figure(figsize=(6, 5))\n",
    "\n",
    "# Plot theoretical prediction without fifth force\n",
    "line = plt.plot(z_range, dlnf_LCDM, color='black', label='No fifth force', linewidth=1)[0]\n",
    "\n",
    "# Plot spline reconstruction\n",
    "fill1 = plt.fill_between(\n",
    "    fhat_reco['x'],\n",
    "    dlnf - err_dlnf,\n",
    "    dlnf + err_dlnf,\n",
    "    color='C0',\n",
    "    alpha=0.3,\n",
    "    label='4 knots'\n",
    ")\n",
    "\n",
    "# Plot inferred values at maglim redshifts\n",
    "plt.errorbar(maglim_zeff, dlnf_mean_maglim, fmt = '.', yerr = err_dlnf_maglim, \n",
    "             label='MagLim redshifts', color = 'red', linewidth = 2)\n",
    "\n",
    "\n",
    "plt.xlabel(\"$z$\", fontsize=16)\n",
    "plt.ylabel('$\\\\mathrm{d}\\,\\ln\\hat{f}(z)/\\\\mathrm{d}\\,\\ln(1+z)$', fontsize = 16)\n",
    "plt.xlim(0.0,2.0)\n",
    "plt.ylim(-1.2,1.2)\n",
    "\n",
    "plt.savefig(\"Figures/dlnf.pdf\", dpi=600, bbox_inches='tight')"
   ]
  },
  {
   "cell_type": "code",
   "execution_count": 23,
   "id": "5c2b122c",
   "metadata": {},
   "outputs": [],
   "source": [
    "#Append right panel data to Fig1 source file\n",
    "with open(\"Source_Data_Files/figure1.txt\", \"a\") as f:\n",
    "    # Three blank lines\n",
    "    f.write(\"\\n\\n\\n\")\n",
    "    \n",
    "    # Right panel block\n",
    "    f.write(\"#Right panel: Reconstruction of the derivative dlnf(z)/dln(1+z)\\n\")\n",
    "    f.write(\"Reconstruction at MagLim redshifts\\n\")\n",
    "    f.write(\"#z\\tdlnf\\tdlnf_error\\n\")\n",
    "    for z, val, err in zip(maglim_zeff, dlnf_mean_maglim, err_dlnf_maglim):\n",
    "        f.write(f\"{z:.6f}\\t{val:.6f}\\t{err:.6f}\\n\")\n",
    "    \n",
    "     # One blank line\n",
    "    f.write(\"\\n\")\n",
    "    \n",
    "    # Spline reconstruction block\n",
    "    f.write(\"#Spline reconstruction\\n\")\n",
    "    f.write(\"#z\\tdlnf\\tdlnf_error\\n\")\n",
    "    for z, val, err in zip(z_range, dlnf, err_dlnf):\n",
    "        f.write(f\"{z:.6f}\\t{val:.6f}\\t{err:.6f}\\n\")\n",
    "    \n",
    "    # One blank line\n",
    "    f.write(\"\\n\")\n",
    "    \n",
    "    # Standard prediction block\n",
    "    f.write(\"#Standard prediction without a fifth force\\n\")\n",
    "    f.write(\"#z\\tdlnf\\n\")\n",
    "    for z, val in zip(z_range, dlnf_LCDM):\n",
    "        f.write(f\"{z:.6f}\\t{val:.6f}\\n\")"
   ]
  },
  {
   "cell_type": "code",
   "execution_count": 24,
   "id": "775ecd90",
   "metadata": {
    "scrolled": true
   },
   "outputs": [
    {
     "data": {
      "image/png": "[encoded data removed]",
      "text/plain": [
       "<Figure size 432x360 with 1 Axes>"
      ]
     },
     "metadata": {
      "needs_background": "light"
     },
     "output_type": "display_data"
    }
   ],
   "source": [
    "# Plotting d\\ln(\\hat{f})(z)/d\\ln(1+z), comparing the baseline case (4 knots) with 3 knots\n",
    "\n",
    "plt.figure(figsize=(6, 5))\n",
    "\n",
    "fill1 = plt.fill_between(\n",
    "    fhat_reco['x'],\n",
    "    dlnf - err_dlnf,\n",
    "    dlnf + err_dlnf,\n",
    "    color='C0',\n",
    "    alpha=0.3,\n",
    "    label='4 knots'\n",
    ")\n",
    "\n",
    "fill2 = plt.fill_between(\n",
    "    fhat_reco_3knots['x'],\n",
    "    dlnf_3knots - err_dlnf_3knots,\n",
    "    dlnf_3knots + err_dlnf_3knots,\n",
    "    color='orange',\n",
    "    alpha=0.3,\n",
    "    label='3 knots'\n",
    ")\n",
    "\n",
    "\n",
    "\n",
    "plt.xlabel(\"$z$\", fontsize=16)\n",
    "plt.ylabel('$\\\\mathrm{d}\\,\\ln\\hat{f}(z)/\\\\mathrm{d}\\,\\ln(1+z)$', fontsize = 16)\n",
    "plt.xlim(0.0,2.0)\n",
    "plt.ylim(-1.2,1.2)\n",
    "\n",
    "errbar = plt.errorbar([1], [-10], yerr=[0.01], fmt='.', label='Measured $f\\sigma_8$ data',\n",
    "                      color='black', elinewidth=1)\n",
    "\n",
    "line = plt.plot(z_range, dlnf_LCDM, color='black', label='No fifth force', linewidth=1)[0]\n",
    "\n",
    "\n",
    "plt.savefig(\"Figures/dlnf_3_4.pdf\", dpi=600, bbox_inches='tight')"
   ]
  },
  {
   "cell_type": "code",
   "execution_count": 25,
   "id": "8354d21c",
   "metadata": {},
   "outputs": [],
   "source": [
    "#Append right panel data to Fig1 source file\n",
    "with open(\"Source_Data_Files/supplementary_figure1.txt\", \"a\") as f:\n",
    "    # Three blank lines\n",
    "    f.write(\"\\n\\n\\n\")\n",
    "    \n",
    "    # Right panel block\n",
    "    f.write(\"#Right panel: Reconstruction of the derivative dlnf(z)/dln(1+z)\\n\")\n",
    "    # Spline reconstruction block, 4 knots\n",
    "    f.write(\"#Spline reconstruction with 4 knots\\n\")\n",
    "    f.write(\"#z\\tdlnf\\tdlnf_error\\n\")\n",
    "    for z, val, err in zip(z_range, dlnf, err_dlnf):\n",
    "        f.write(f\"{z:.6f}\\t{val:.6f}\\t{err:.6f}\\n\")\n",
    "    \n",
    "    # One blank line\n",
    "    f.write(\"\\n\")\n",
    "    \n",
    "    # Spline reconstruction block, 3 knots\n",
    "    f.write(\"#Spline reconstruction with 3 knots\\n\")\n",
    "    f.write(\"#z\\tdlnf\\tdlnf_error\\n\")\n",
    "    for z, val, err in zip(z_range, dlnf_3knots, err_dlnf_3knots):\n",
    "        f.write(f\"{z:.6f}\\t{val:.6f}\\t{err:.6f}\\n\")\n",
    "    \n",
    "    # One blank line\n",
    "    f.write(\"\\n\")\n",
    "    \n",
    "    \n",
    "    # Standard prediction block\n",
    "    f.write(\"#Standard prediction without a fifth force\\n\")\n",
    "    f.write(\"#z\\tdlnf\\n\")\n",
    "    for z, val in zip(z_range, dlnf_LCDM):\n",
    "        f.write(f\"{z:.6f}\\t{val:.6f}\\n\")"
   ]
  },
  {
   "cell_type": "markdown",
   "id": "585fd5e5",
   "metadata": {},
   "source": [
    "### Plotting Gamma at maglim redshifts"
   ]
  },
  {
   "cell_type": "code",
   "execution_count": 26,
   "id": "4f9bcc3f",
   "metadata": {
    "scrolled": false
   },
   "outputs": [
    {
     "data": {
      "image/png": "[encoded data removed]",
      "text/plain": [
       "<Figure size 432x360 with 1 Axes>"
      ]
     },
     "metadata": {
      "needs_background": "light"
     },
     "output_type": "display_data"
    }
   ],
   "source": [
    "plt.figure(figsize=(6, 5))\n",
    "\n",
    "plt.plot(np.linspace(0.2,0.9,50), np.full(50, 0), color='black', linewidth=1.0)\n",
    "\n",
    "# Plot the measured data with larger markers and wider error bars\n",
    "plt.errorbar(maglim_zeff-0.005, Gamma_maglim - 1, yerr=err_Gamma_maglim, fmt='.', markersize=10, elinewidth=2, color = 'red', label = '4 knots')\n",
    "\n",
    "# Plot the measured data with larger markers and wider error bars\n",
    "plt.errorbar(maglim_zeff+0.005, Gamma_maglim_3knots - 1, yerr=err_Gamma_maglim_3knots, fmt='.', markersize=10, elinewidth=2, color = 'orange', label = '3 knots')\n",
    "\n",
    "\n",
    "plt.xlabel(\"z\", fontsize=16)\n",
    "plt.ylabel(\"$\\Gamma\\,(z)$\", fontsize=16)\n",
    "plt.xlim(0.2,0.9)\n",
    "# plt.ylim(ylim_lower, ylim_upper)\n",
    "plt.legend(ncol = 2, loc = 'upper center', fontsize = 12)\n",
    "plt.xticks(fontsize=14)\n",
    "plt.yticks(fontsize=14)\n",
    "plt.savefig(\"Figures/results_Gamma_3_4.pdf\", dpi=600, bbox_inches='tight')"
   ]
  },
  {
   "cell_type": "code",
   "execution_count": 27,
   "id": "77043c1b",
   "metadata": {},
   "outputs": [],
   "source": [
    "#Append right panel data to Supp. Fig2 source file\n",
    "with open(\"Source_Data_Files/supplementary_figure2.txt\", \"w\") as f:\n",
    "    f.write(\"#Constraint on Gamma with current data\\n\")\n",
    "    # 4 knots\n",
    "    f.write(\"#Measurement at MagLim redshifts, 4 knots\\n\")\n",
    "    f.write(\"#z\\tGamma\\tGamma_error\\n\")\n",
    "    for z, g, err in zip(maglim_zeff, Gamma_maglim, err_Gamma_maglim):\n",
    "        f.write(f\"{z:.6f}\\t{g:.6f}\\t{err:.6f}\\n\")\n",
    "    \n",
    "    # Blank line\n",
    "    f.write(\"\\n\")\n",
    "    \n",
    "    # 3 knots\n",
    "    f.write(\"#Measurement at MagLim redshifts, 3 knots\\n\")\n",
    "    f.write(\"#z\\tGamma\\tGamma_error\\n\")\n",
    "    for z, g, err in zip(maglim_zeff, Gamma_maglim_3knots, err_Gamma_maglim_3knots):\n",
    "        f.write(f\"{z:.6f}\\t{g:.6f}\\t{err:.6f}\\n\")"
   ]
  },
  {
   "cell_type": "markdown",
   "id": "8e2c884c",
   "metadata": {},
   "source": [
    "### Comparison with special cases (Gamma constant over observed redshift range, or Gamma evolving in proportion to dark energy density)"
   ]
  },
  {
   "cell_type": "code",
   "execution_count": 28,
   "id": "bc83209d",
   "metadata": {},
   "outputs": [
    {
     "name": "stdout",
     "output_type": "stream",
     "text": [
      "[0.9297024] [[0.14036834]]\n"
     ]
    }
   ],
   "source": [
    "# Computing mean and standard dev. for the constant Gamma case\n",
    "def const_Gamma(z, Gamma_const_val):\n",
    "    return Gamma_const_val\n",
    "\n",
    "[const_Gamma_mean, const_Gamma_stdev2] = curve_fit(const_Gamma, maglim_zeff, Gamma_maglim, sigma=Gamma_cov_maglim, absolute_sigma=True)\n",
    "const_Gamma_stdev = np.sqrt(const_Gamma_stdev2)\n",
    "print(const_Gamma_mean, const_Gamma_stdev)"
   ]
  },
  {
   "cell_type": "code",
   "execution_count": 29,
   "id": "a145ed5b",
   "metadata": {},
   "outputs": [
    {
     "name": "stdout",
     "output_type": "stream",
     "text": [
      "[-0.12412186] [[0.21349804]]\n"
     ]
    }
   ],
   "source": [
    "# Computing mean and standard dev. when Gamma is evolving in proportion to DE density\n",
    "\n",
    "Omm0 = 0.311\n",
    "OmL0 = 1 - 0.311\n",
    "\n",
    "def Omega_L(z):\n",
    "    return OmL0/(OmL0+Omm0*(1+z)**3)\n",
    "\n",
    "def Gamma_DE(z, Gamma0):\n",
    "    return 1+Gamma0*Omega_L(z)/OmL0\n",
    "\n",
    "[Gamma0_mean, Gamma0_stdev2] = curve_fit(Gamma_DE, maglim_zeff, Gamma_maglim, sigma=Gamma_cov_maglim, absolute_sigma=True)\n",
    "Gamma0_stdev = np.sqrt(Gamma0_stdev2)\n",
    "print(Gamma0_mean, Gamma0_stdev)"
   ]
  },
  {
   "cell_type": "code",
   "execution_count": 30,
   "id": "0df6f208",
   "metadata": {
    "scrolled": true
   },
   "outputs": [
    {
     "data": {
      "image/png": "[encoded data removed]",
      "text/plain": [
       "<Figure size 432x360 with 1 Axes>"
      ]
     },
     "metadata": {
      "needs_background": "light"
     },
     "output_type": "display_data"
    }
   ],
   "source": [
    "plt.figure(figsize=(6, 5))\n",
    "\n",
    "color_fit = 'orange'\n",
    "\n",
    "plt.plot([0.2,0.9], [0,0], color='black', linewidth=1.0) \n",
    "\n",
    "# Measured data at MagLim redshifts\n",
    "plt.errorbar(maglim_zeff, Gamma_maglim - 1, yerr=err_Gamma_maglim, fmt='.', markersize=10, elinewidth=2, color = 'red', label = 'MagLim redshifts')\n",
    "\n",
    "# Fifth force constant in observed redshift range\n",
    "plt.plot(np.linspace(0.2,0.9,2), np.full(2, const_Gamma_mean-1), color=color_fit, linewidth=1.5, alpha = 0.8, label='Constant $\\Gamma(z)$')\n",
    "plt.fill_between([0.2,0.9], np.full(2,const_Gamma_mean-1-const_Gamma_stdev), np.full(2,const_Gamma_mean-1+const_Gamma_stdev), \n",
    "                 color=color_fit, alpha = 0.2)\n",
    "\n",
    "# Fifth force evolving with DE density\n",
    "#plt.plot(np.linspace(0.2,0.9,100), Gamma_DE(np.linspace(0.2,0.9,100), Gamma0_mean)-1, color='blue', alpha = 0.8, linewidth=1.5, label = '$\\Gamma(z)$ evolving with DE')\n",
    "#plt.plot(np.linspace(0.2,0.9,100), Gamma_DE(np.linspace(0.2,0.9,100), Gamma0_mean+Gamma0_stdev[0])-1,'--', color='blue', alpha = 0.8, linewidth=1.)\n",
    "#plt.plot(np.linspace(0.2,0.9,100), Gamma_DE(np.linspace(0.2,0.9,100), Gamma0_mean-Gamma0_stdev[0])-1,'--', color='blue', alpha = 0.8, linewidth=1.)\n",
    "\n",
    "\n",
    "plt.xlabel(\"z\", fontsize=16)\n",
    "plt.ylabel(\"$\\Gamma\\,(z)$\", fontsize=16)\n",
    "plt.xlim(0.2,0.9)\n",
    "plt.legend(fontsize = 12, loc = 'upper left')\n",
    "plt.xticks(fontsize=14)\n",
    "plt.yticks(fontsize=14)\n",
    "plt.savefig(\"Figures/results_Gamma.pdf\", dpi=600, bbox_inches='tight')"
   ]
  },
  {
   "cell_type": "code",
   "execution_count": 31,
   "id": "89e9c679",
   "metadata": {},
   "outputs": [],
   "source": [
    "with open(\"Source_Data_Files/figure2.txt\", \"w\") as f:\n",
    "    # First block\n",
    "    f.write(\"#Constraint on Gamma with current data\\n\")\n",
    "    f.write(\"#Measurement at MagLim redshifts\\n\")\n",
    "    f.write(\"#z\\tGamma\\tGamma_error\\n\")\n",
    "    for z, g, err in zip(maglim_zeff, Gamma_maglim, err_Gamma_maglim):\n",
    "        f.write(f\"{z:.6f}\\t{g:.6f}\\t{err:.6f}\\n\")\n",
    "    \n",
    "    # Blank line\n",
    "    f.write(\"\\n\")\n",
    "    \n",
    "    # Second block\n",
    "    f.write(\"#Constant fifth force in observed redshift range\\n\")\n",
    "    f.write(\"#Gamma\\tGamma_error\\n\")\n",
    "    f.write(f\"{const_Gamma_mean[0]:.6f}\\t{const_Gamma_stdev[0,0]:.6f}\\n\")"
   ]
  }
 ],
 "metadata": {
  "kernelspec": {
   "display_name": "Python 3",
   "language": "python",
   "name": "python3"
  },
  "language_info": {
   "codemirror_mode": {
    "name": "ipython",
    "version": 3
   },
   "file_extension": ".py",
   "mimetype": "text/x-python",
   "name": "python",
   "nbconvert_exporter": "python",
   "pygments_lexer": "ipython3",
   "version": "3.6.13"
  }
 },
 "nbformat": 4,
 "nbformat_minor": 5
}
